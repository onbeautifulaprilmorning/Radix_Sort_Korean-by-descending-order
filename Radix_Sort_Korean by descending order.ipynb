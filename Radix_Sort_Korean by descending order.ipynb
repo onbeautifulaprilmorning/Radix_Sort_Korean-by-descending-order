{
  "nbformat": 4,
  "nbformat_minor": 0,
  "metadata": {
    "colab": {
      "name": "HW# Radix Sort 한글 내림차순.ipynb",
      "version": "0.3.2",
      "provenance": []
    },
    "kernelspec": {
      "name": "python3",
      "display_name": "Python 3"
    }
  },
  "cells": [
    {
      "metadata": {
        "id": "s8v3xEf1fkpi",
        "colab_type": "code",
        "colab": {
          "base_uri": "https://localhost:8080/",
          "height": 54
        },
        "outputId": "6f7e5f57-ac0e-4b5d-d23a-a67446b21e0c"
      },
      "cell_type": "code",
      "source": [
        "text = \"이 밤 그날의 반딧불을 당신의 창 가까이 보낼게요 음 사랑한다는 말이에요 \"\n",
        "text += \"나, 우리의 첫 입맞춤을 떠올려 그럼 언제든 눈을 감고 음 가장 먼 곳으로 가요 \"\n",
        "text += \"난 파도가 머물던 모래 위에 적힌 글씨처럼 그대가 멀리 사라져 버릴 것 같아 늘 그리워 그리워 여기 내 맘속에 \"\n",
        "text += \"모든 말을 다 꺼내어 줄 순 없지만 사랑한다는 말이에요\"\n",
        "\n",
        "words = set(text.split(\" \"))\n",
        "words = list(words)\n",
        "\n",
        "print(words)"
      ],
      "execution_count": 6,
      "outputs": [
        {
          "output_type": "stream",
          "text": [
            "['글씨처럼', '것', '입맞춤을', '말을', '모래', '순', '늘', '난', '맘속에', '먼', '버릴', '그날의', '위에', '줄', '반딧불을', '가까이', '말이에요', '보낼게요', '창', '내', '가요', '곳으로', '사랑한다는', '모든', '나,', '적힌', '그리워', '감고', '이', '우리의', '파도가', '당신의', '그럼', '여기', '멀리', '같아', '밤', '떠올려', '그대가', '머물던', '없지만', '꺼내어', '사라져', '눈을', '다', '언제든', '가장', '첫', '음']\n"
          ],
          "name": "stdout"
        }
      ]
    },
    {
      "metadata": {
        "id": "2KOOxmEIfsAZ",
        "colab_type": "code",
        "colab": {
          "base_uri": "https://localhost:8080/",
          "height": 34
        },
        "outputId": "e9188410-dcb3-49f3-e74e-a36820045bb2"
      },
      "cell_type": "code",
      "source": [
        "maxlen = 0\n",
        "for word in words:\n",
        "  if len(word) > maxlen:\n",
        "    maxlen = len(word)\n",
        "\n",
        "print(maxlen)"
      ],
      "execution_count": 7,
      "outputs": [
        {
          "output_type": "stream",
          "text": [
            "5\n"
          ],
          "name": "stdout"
        }
      ]
    },
    {
      "metadata": {
        "id": "8pNqf_JKfsRe",
        "colab_type": "code",
        "colab": {
          "base_uri": "https://localhost:8080/",
          "height": 54
        },
        "outputId": "c8c564b1-a494-4209-8a4e-b65f5d998eb6"
      },
      "cell_type": "code",
      "source": [
        "k = 11172 + 1\n",
        "\n",
        "for i in range(1, maxlen + 1):\n",
        "  queue = [list() for _ in range(k)]\n",
        "  \n",
        "  for word in words:\n",
        "    word += (maxlen - len(word)) * ' '\n",
        "    if ord(word[-i]) >= 44032:\n",
        "      queue[55023- ord(word[-i])].append(word)\n",
        "    else:\n",
        "      queue[0].append(word)\n",
        "      \n",
        "  words = sum(queue, [])\n",
        "  \n",
        "for i in range(len(words)):\n",
        "  words[i] = words[i].replace(\" \", \"\")\n",
        "  \n",
        "print(words)"
      ],
      "execution_count": 13,
      "outputs": [
        {
          "output_type": "stream",
          "text": [
            "['파도가', '첫', '창', '줄', '적힌', '입맞춤을', '이', '음', '위에', '우리의', '여기', '없지만', '언제든', '순', '사랑한다는', '사라져', '보낼게요', '버릴', '밤', '반딧불을', '모래', '모든', '멀리', '먼', '머물던', '맘속에', '말이에요', '말을', '떠올려', '당신의', '다', '늘', '눈을', '내', '난', '나,', '꺼내어', '글씨처럼', '그리워', '그럼', '그대가', '그날의', '곳으로', '것', '같아', '감고', '가장', '가요', '가까이']\n"
          ],
          "name": "stdout"
        }
      ]
    },
    {
      "metadata": {
        "id": "_gLYivb2f1R1",
        "colab_type": "code",
        "colab": {}
      },
      "cell_type": "code",
      "source": [
        ""
      ],
      "execution_count": 0,
      "outputs": []
    }
  ]
}